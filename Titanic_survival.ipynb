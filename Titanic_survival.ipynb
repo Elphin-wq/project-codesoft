{
  "nbformat": 4,
  "nbformat_minor": 0,
  "metadata": {
    "colab": {
      "provenance": [],
      "authorship_tag": "ABX9TyNpE7FUQ4YusqwL2779qBSV",
      "include_colab_link": true
    },
    "kernelspec": {
      "name": "python3",
      "display_name": "Python 3"
    },
    "language_info": {
      "name": "python"
    }
  },
  "cells": [
    {
      "cell_type": "markdown",
      "metadata": {
        "id": "view-in-github",
        "colab_type": "text"
      },
      "source": [
        "<a href=\"https://colab.research.google.com/github/Elphin-wq/project-codesoft/blob/main/Titanic_survival.ipynb\" target=\"_parent\"><img src=\"https://colab.research.google.com/assets/colab-badge.svg\" alt=\"Open In Colab\"/></a>"
      ]
    },
    {
      "cell_type": "code",
      "execution_count": 5,
      "metadata": {
        "id": "QQwhjKXTqRaK",
        "colab": {
          "base_uri": "https://localhost:8080/",
          "height": 761
        },
        "outputId": "3daad79b-e9df-4826-c39c-5eea6a3ee562"
      },
      "outputs": [
        {
          "output_type": "stream",
          "name": "stdout",
          "text": [
            "[0 0 0 1 1 0 1 1 0 1 0 1 0 1 1 1 0 0 0 0 0 1 0 0 1 1 0 1 1 1 0 1 0 0 0 0 0\n",
            " 0 0 0 0 0 0 0 1 0 0 1 0 0 0 0 1 0 0 0 0 1 0 0 0 1 1 0 1 0 1 0 1 1 1 0 0 0\n",
            " 0 1 0 0 0 0 0 0 1 0 0 1 1 1 1 0 0 0 0 1 1 0 1 0 0 0 0 0 0 0 1 1 1 1 0 1 0\n",
            " 1 0 1 0 1 1 1 0 1 0 0 0 0 0 0 0 0 0 0 1 0 0 1 0 0 0 1 0 0 0 1 0 1 1 1 0 1\n",
            " 1 0 0 1 1 0 1 0 1 0 1 1 0 0 1 1 0 0 0 0 0 0 0 1 0 0 1 0 1 0 0]\n",
            "495    0\n",
            "648    0\n",
            "278    0\n",
            "31     1\n",
            "255    1\n",
            "      ..\n",
            "780    1\n",
            "837    0\n",
            "215    1\n",
            "833    0\n",
            "372    0\n",
            "Name: Survived, Length: 179, dtype: int64\n",
            "survived\n"
          ]
        },
        {
          "output_type": "display_data",
          "data": {
            "text/plain": [
              "<Figure size 640x480 with 1 Axes>"
            ],
            "image/png": "[encoded data removed]"
          },
          "metadata": {}
        }
      ],
      "source": [
        "import pandas as pd\n",
        "import numpy as np\n",
        "import matplotlib.pyplot as plt\n",
        "import seaborn as sns\n",
        "df=pd.read_csv('titac.CSV')\n",
        "df.head(10)\n",
        "df.shape\n",
        "df.describe()\n",
        "df['Survived'].value_counts()\n",
        "sns.countplot(x=df['Survived'],hue=df['Pclass'])\n",
        "\n",
        "\n",
        "from sklearn.preprocessing import LabelEncoder\n",
        "Labelencoder = LabelEncoder()\n",
        "df['sex'] = Labelencoder.fit_transform(df['Sex'])\n",
        "df.head()\n",
        "df['sex'],df['Survived']\n",
        "sns.countplot(x=df['sex'],hue=df['Survived'])\n",
        "df.isna().sum()\n",
        "df=df.drop(['Age'],axis=1)\n",
        "df_final=df\n",
        "df_final.head(10)\n",
        "x=df[['Pclass','sex']]\n",
        "y=df['Survived']\n",
        "from sklearn.model_selection import train_test_split\n",
        "x_train,x_test,y_train,y_test=train_test_split(x,y,test_size=0.2,random_state=0)\n",
        "from sklearn.linear_model import LogisticRegression\n",
        "log=LogisticRegression(random_state=0)\n",
        "log.fit(x_train,y_train)\n",
        "pred = print(log.predict(x_test))\n",
        "print(y_test)\n",
        "import warnings\n",
        "warnings.filterwarnings(\"ignore\")\n",
        "res = log.predict([[2,0]])\n",
        "if (res==0):\n",
        "  print(\"so sorry!not survived\")\n",
        "else:\n",
        "  print(\"survived\")"
      ]
    }
  ]
}